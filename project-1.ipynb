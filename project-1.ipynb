{
 "cells": [
  {
   "cell_type": "code",
   "execution_count": 1,
   "id": "3a30ae4e",
   "metadata": {
    "_cell_guid": "b1076dfc-b9ad-4769-8c92-a6c4dae69d19",
    "_uuid": "8f2839f25d086af736a60e9eeb907d3b93b6e0e5",
    "execution": {
     "iopub.execute_input": "2023-05-25T01:38:48.963611Z",
     "iopub.status.busy": "2023-05-25T01:38:48.962781Z",
     "iopub.status.idle": "2023-05-25T01:38:48.974944Z",
     "shell.execute_reply": "2023-05-25T01:38:48.974194Z"
    },
    "papermill": {
     "duration": 0.018253,
     "end_time": "2023-05-25T01:38:48.977001",
     "exception": false,
     "start_time": "2023-05-25T01:38:48.958748",
     "status": "completed"
    },
    "tags": []
   },
   "outputs": [],
   "source": [
    "# This Python 3 environment comes with many helpful analytics libraries installed\n",
    "# It is defined by the kaggle/python Docker image: https://github.com/kaggle/docker-python\n",
    "# For example, here's several helpful packages to load\n",
    "\n",
    "import numpy as np # linear algebra\n",
    "import pandas as pd # data processing, CSV file I/O (e.g. pd.read_csv)\n",
    "\n",
    "# Input data files are available in the read-only \"../input/\" directory\n",
    "# For example, running this (by clicking run or pressing Shift+Enter) will list all files under the input directory\n",
    "\n",
    "import os\n",
    "for dirname, _, filenames in os.walk('/kaggle/input'):\n",
    "    for filename in filenames:\n",
    "        print(os.path.join(dirname, filename))\n",
    "\n",
    "# You can write up to 20GB to the current directory (/kaggle/working/) that gets preserved as output when you create a version using \"Save & Run All\" \n",
    "# You can also write temporary files to /kaggle/temp/, but they won't be saved outside of the current session"
   ]
  },
  {
   "cell_type": "markdown",
   "id": "7f61bda3",
   "metadata": {
    "papermill": {
     "duration": 0.001617,
     "end_time": "2023-05-25T01:38:48.980784",
     "exception": false,
     "start_time": "2023-05-25T01:38:48.979167",
     "status": "completed"
    },
    "tags": []
   },
   "source": [
    "#Exploring Dataset"
   ]
  },
  {
   "cell_type": "raw",
   "id": "4c716cab",
   "metadata": {
    "papermill": {
     "duration": 0.001527,
     "end_time": "2023-05-25T01:38:48.984090",
     "exception": false,
     "start_time": "2023-05-25T01:38:48.982563",
     "status": "completed"
    },
    "tags": []
   },
   "source": [
    "import numpy as np"
   ]
  }
 ],
 "metadata": {
  "kernelspec": {
   "display_name": "Python 3",
   "language": "python",
   "name": "python3"
  },
  "language_info": {
   "codemirror_mode": {
    "name": "ipython",
    "version": 3
   },
   "file_extension": ".py",
   "mimetype": "text/x-python",
   "name": "python",
   "nbconvert_exporter": "python",
   "pygments_lexer": "ipython3",
   "version": "3.10.10"
  },
  "papermill": {
   "default_parameters": {},
   "duration": 12.421346,
   "end_time": "2023-05-25T01:38:49.808147",
   "environment_variables": {},
   "exception": null,
   "input_path": "__notebook__.ipynb",
   "output_path": "__notebook__.ipynb",
   "parameters": {},
   "start_time": "2023-05-25T01:38:37.386801",
   "version": "2.4.0"
  }
 },
 "nbformat": 4,
 "nbformat_minor": 5
}
